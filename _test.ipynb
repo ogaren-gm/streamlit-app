{
 "cells": [
  {
   "cell_type": "code",
   "execution_count": 27,
   "id": "0a7f3123",
   "metadata": {},
   "outputs": [
    {
     "name": "stdout",
     "output_type": "stream",
     "text": [
      "Query Start... 최대 60초 대기합니다.\n"
     ]
    },
    {
     "name": "stderr",
     "output_type": "stream",
     "text": [
      "Processing...: 100%|██████████| 00:01\n"
     ]
    },
    {
     "name": "stdout",
     "output_type": "stream",
     "text": [
      "총 예상 행 수: 209912\n"
     ]
    }
   ],
   "source": [
    "# 모듈 전체를 먼저 import\n",
    "from bigquery import BigQuery\n",
    "\n",
    "# 모듈을 reload\n",
    "import importlib\n",
    "importlib.reload(bigquery)\n",
    "\n",
    "# reload 이후 다시 클래스 import (권장)\n",
    "from bigquery import BigQuery\n",
    "\n",
    "bq = BigQuery(projectCode='sleeper')\n",
    "df = bq.get_data('tb_sleeper_psi')"
   ]
  },
  {
   "cell_type": "code",
   "execution_count": 30,
   "id": "554cf92c",
   "metadata": {},
   "outputs": [],
   "source": [
    "import numpy as np\n",
    "\n",
    "df[\"_sourceMedium\"] = df[\"psi_source\"].astype(str) + \" / \" + df[\"psi_medium\"].astype(str)\n",
    "# df[\"_isUserNew_y\"] = np.where(df[\"first_visit\"] == 1, df[\"user_pseudo_id\"], np.nan)\n",
    "# df[\"_isUserNew_n\"] = np.where(df[\"first_visit\"] == 0, df[\"user_pseudo_id\"], np.nan)\n",
    "df[\"_isUserNew_y\"] = (df[\"first_visit\"] == 1).astype(int)\n",
    "df[\"_isUserNew_n\"] = (df[\"first_visit\"] == 0).astype(int)\n",
    "\n",
    "df[\"_engagement_time_sec_sum\"] = df[\"engagement_time_msec_sum\"] / 1000\n",
    "\n",
    "# df[\"_find_nearby_showroom_sessionCnt\"] = np.where(df[\"find_nearby_showroom\"] > 0, df[\"pseudo_session_id\"], np.nan)\n",
    "# df[\"_product_option_price_sessionCnt\"] = np.where(df[\"product_option_price\"] > 0, df[\"pseudo_session_id\"], np.nan)\n",
    "# df[\"_view_item_sessionCnt\"] = np.where(df[\"view_item\"] > 0, df[\"pseudo_session_id\"], np.nan)\n",
    "# df[\"_add_to_cart_sessionCnt\"] = np.where(df[\"add_to_cart\"] > 0, df[\"pseudo_session_id\"], np.nan)\n",
    "# df[\"_purchase_sessionCnt\"] = np.where(df[\"purchase\"] > 0, df[\"pseudo_session_id\"], np.nan)\n",
    "# df[\"_showroom_10s_sessionCnt\"] = np.where(df[\"showroom_10s\"] > 0, df[\"pseudo_session_id\"], np.nan)\n",
    "# df[\"_product_page_scroll_50_sessionCnt\"] = np.where(df[\"product_page_scroll_50\"] > 0, df[\"pseudo_session_id\"], np.nan)\n",
    "\n",
    "df[\"_find_nearby_showroom_sessionCnt\"] = (df[\"find_nearby_showroom\"] > 0).astype(int)\n",
    "df[\"_product_option_price_sessionCnt\"] = (df[\"product_option_price\"] > 0).astype(int)\n",
    "df[\"_view_item_sessionCnt\"] = (df[\"view_item\"] > 0).astype(int)\n",
    "df[\"_add_to_cart_sessionCnt\"] = (df[\"add_to_cart\"] > 0).astype(int)\n",
    "df[\"_purchase_sessionCnt\"] = (df[\"purchase\"] > 0).astype(int)\n",
    "df[\"_showroom_10s_sessionCnt\"] = (df[\"showroom_10s\"] > 0).astype(int)\n",
    "df[\"_product_page_scroll_50_sessionCnt\"] = (df[\"product_page_scroll_50\"] > 0).astype(int)\n",
    "\n",
    "\n",
    "\n",
    "def map_isPaid_4(row):\n",
    "    source_medium = row[\"_sourceMedium\"]\n",
    "    psi_source = row[\"psi_source\"]\n",
    "\n",
    "    if source_medium in ['google / organic', 'naver / organic']:\n",
    "        return 'ETC'\n",
    "    elif psi_source in [\n",
    "        'google', 'naver', 'meta', 'meta_adv', 'mobon', 'mobion',\n",
    "        'naver_gfa', 'DV360', 'dv360', 'fb', 'sns', 'IGShopping',\n",
    "        'criteo'\n",
    "    ] or source_medium in ['youtube / demand_gen', 'kakako / crm']:\n",
    "        return 'Paid'\n",
    "    elif psi_source in [\n",
    "        'litt.ly', 'instagram', 'l.instagram.com', 'instagram.com',\n",
    "        'blog.naver.com', 'm.blog.naver.com', 'smartstore.naver.com', 'm.brand.naver.com'\n",
    "    ] or source_medium == 'kakao / channel_message':\n",
    "        return 'Owned'\n",
    "    elif psi_source in ['youtube', 'youtube.com', 'm.youtube.com'] or source_medium in [\n",
    "        'm.facebook.com / referral', 'l.facebook.com / referral', 'facebook.com / referral'\n",
    "    ]:\n",
    "        return 'Earned'\n",
    "    else:\n",
    "        return 'ETC'\n",
    "\n",
    "df[\"isPaid_4\"] = df.apply(map_isPaid_4, axis=1)\n"
   ]
  },
  {
   "cell_type": "code",
   "execution_count": 32,
   "id": "642e6490",
   "metadata": {},
   "outputs": [
    {
     "data": {
      "text/plain": [
       "Index(['pseudo_session_id', 'user_pseudo_id', 'ga_session_id', 'first_visit',\n",
       "       'sign_up', 'view_item', 'add_to_cart', 'wishlist', 'view_cart',\n",
       "       'begin_checkout', 'purchase', 'page_view', 'scroll', 'session_start',\n",
       "       'user_engagement', 'click_category_depth_1', 'click_category_depth_2',\n",
       "       'click_category_depth_3', 'scroll_50', 'product_page_scroll_50',\n",
       "       'sign_up_start', 'click_banner_top', 'select_promotion',\n",
       "       'click_promotion_cta', 'view_item_list', 'select_item', 'showroom_10s',\n",
       "       'showroom_leads', 'find_nearby_showroom', 'product_option_price',\n",
       "       'purchase_button_click', 'min_num', 'max_num', 'event_ts', 'event_date',\n",
       "       'geo__sub_continent', 'geo__country', 'geo__city', 'device__category',\n",
       "       'device__operating_system', 'engagement_time_msec_sum', 'psi_source',\n",
       "       'psi_medium', 'psi_campaign', 'psi_content', '_sourceMedium',\n",
       "       '_isUserNew_y', '_isUserNew_n', '_engagement_time_sec_sum',\n",
       "       '_find_nearby_showroom_sessionCnt', '_product_option_price_sessionCnt',\n",
       "       '_view_item_sessionCnt', '_add_to_cart_sessionCnt',\n",
       "       '_purchase_sessionCnt', '_showroom_10s_sessionCnt',\n",
       "       '_product_page_scroll_50_sessionCnt', 'isPaid_4'],\n",
       "      dtype='object')"
      ]
     },
     "execution_count": 32,
     "metadata": {},
     "output_type": "execute_result"
    }
   ],
   "source": [
    "df.columns"
   ]
  }
 ],
 "metadata": {
  "kernelspec": {
   "display_name": "base",
   "language": "python",
   "name": "python3"
  },
  "language_info": {
   "codemirror_mode": {
    "name": "ipython",
    "version": 3
   },
   "file_extension": ".py",
   "mimetype": "text/x-python",
   "name": "python",
   "nbconvert_exporter": "python",
   "pygments_lexer": "ipython3",
   "version": "3.12.7"
  }
 },
 "nbformat": 4,
 "nbformat_minor": 5
}
